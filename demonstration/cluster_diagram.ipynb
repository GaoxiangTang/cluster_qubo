{
 "cells": [
  {
   "cell_type": "markdown",
   "metadata": {},
   "source": [
    "This code is used for generating demonstration of our multi-view clustering algorithm for grouping variables "
   ]
  },
  {
   "cell_type": "code",
   "execution_count": 1,
   "metadata": {},
   "outputs": [
    {
     "data": {
      "text/plain": [
       "{'Q_tilde': '../diagrams/materials/q_tilde.svg',\n",
       " 'Positive Q_tilde': '../diagrams/materials/positive_q_tilde.svg',\n",
       " 'Negative Q_tilde': '../diagrams/materials/negative_q_tilde.svg',\n",
       " 'Laplacian Positive': '../diagrams/materials/laplacian_positive.svg',\n",
       " 'Laplacian Negative': '../diagrams/materials/laplacian_negative.svg',\n",
       " 'Feature Matrix Positive': '../diagrams/materials/feature_matrix_positive.svg',\n",
       " 'Feature Matrix Negative': '../diagrams/materials/feature_matrix_negative.svg',\n",
       " 'Combined Feature Matrix': '../diagrams/materials/combined_feature_matrix.svg'}"
      ]
     },
     "execution_count": 1,
     "metadata": {},
     "output_type": "execute_result"
    },
    {
     "data": {
      "image/png": "[encoded data removed]",
      "text/plain": [
       "<Figure size 500x500 with 1 Axes>"
      ]
     },
     "metadata": {},
     "output_type": "display_data"
    },
    {
     "data": {
      "image/png": "[encoded data removed]",
      "text/plain": [
       "<Figure size 500x500 with 1 Axes>"
      ]
     },
     "metadata": {},
     "output_type": "display_data"
    },
    {
     "data": {
      "image/png": "[encoded data removed]",
      "text/plain": [
       "<Figure size 500x500 with 1 Axes>"
      ]
     },
     "metadata": {},
     "output_type": "display_data"
    },
    {
     "data": {
      "image/png": "[encoded data removed]",
      "text/plain": [
       "<Figure size 500x500 with 1 Axes>"
      ]
     },
     "metadata": {},
     "output_type": "display_data"
    },
    {
     "data": {
      "image/png": "[encoded data removed]",
      "text/plain": [
       "<Figure size 500x500 with 1 Axes>"
      ]
     },
     "metadata": {},
     "output_type": "display_data"
    },
    {
     "data": {
      "image/png": "[encoded data removed]",
      "text/plain": [
       "<Figure size 500x500 with 1 Axes>"
      ]
     },
     "metadata": {},
     "output_type": "display_data"
    },
    {
     "data": {
      "image/png": "[encoded data removed]",
      "text/plain": [
       "<Figure size 500x500 with 1 Axes>"
      ]
     },
     "metadata": {},
     "output_type": "display_data"
    },
    {
     "data": {
      "image/png": "[encoded data removed]",
      "text/plain": [
       "<Figure size 500x500 with 1 Axes>"
      ]
     },
     "metadata": {},
     "output_type": "display_data"
    }
   ],
   "source": [
    "# Import necessary libraries\n",
    "import numpy as np\n",
    "import matplotlib.pyplot as plt\n",
    "\n",
    "# Generate a random 5x5 q_tilde matrix with values ranging from -10 to 10\n",
    "q_tilde = np.random.randint(-10, 11, size=(5, 5))\n",
    "\n",
    "# Separate q_tilde into positive and negative components\n",
    "positive_q_tilde = np.maximum(q_tilde, 0)\n",
    "negative_q_tilde = np.maximum(-q_tilde, 0)\n",
    "\n",
    "# Function to compute the normalized Laplacian\n",
    "def compute_laplacian(S):\n",
    "    S = (S + S.T) / 2\n",
    "    D = np.diag(np.sum(S, axis=1))\n",
    "    L = D - S\n",
    "    return L\n",
    "\n",
    "# Compute the Laplacians\n",
    "laplacian_positive = compute_laplacian(positive_q_tilde)\n",
    "laplacian_negative = compute_laplacian(negative_q_tilde)\n",
    "\n",
    "# Function to extract eigenvectors corresponding to the smallest eigenvalues\n",
    "def get_eigenvectors(L, n_vectors=3):\n",
    "    eigvals, eigvecs = np.linalg.eigh(L)\n",
    "    return eigvecs[:, np.argsort(eigvals)[:n_vectors]]\n",
    "\n",
    "# Compute the feature matrices\n",
    "feature_matrix_positive = get_eigenvectors(laplacian_positive)\n",
    "feature_matrix_negative = get_eigenvectors(laplacian_negative)\n",
    "\n",
    "# Combine the feature matrices\n",
    "combined_feature_matrix = np.hstack((feature_matrix_positive, feature_matrix_negative))\n",
    "\n",
    "# Function to save a matrix as a svg with a border at the edge\n",
    "def save_matrix_as_svg_with_edge_border(matrix, title, cmap, vmin, vmax, filename, border_color=None):\n",
    "    plt.figure(figsize=(5, 5))\n",
    "    plt.imshow(matrix, cmap=cmap, vmin=vmin, vmax=vmax)\n",
    "    \n",
    "    if border_color:\n",
    "        # Add a border at the edge\n",
    "        ax = plt.gca()\n",
    "        rect = plt.Rectangle((-0.5, -0.5), matrix.shape[1], matrix.shape[0],\n",
    "                             linewidth=5, edgecolor=border_color, facecolor='none')\n",
    "        ax.add_patch(rect)\n",
    "    \n",
    "    plt.axis('off')\n",
    "    plt.savefig(filename, bbox_inches='tight')\n",
    "\n",
    "# Save the matrices without borders\n",
    "save_matrix_as_svg_with_edge_border(q_tilde, 'W', 'seismic', -10, 10, '../diagrams/materials/q_tilde.svg')\n",
    "save_matrix_as_svg_with_edge_border(positive_q_tilde, '$W_+$', 'Reds', 0, 10, '../diagrams/materials/positive_q_tilde.svg')\n",
    "save_matrix_as_svg_with_edge_border(-negative_q_tilde, '$W_-$', 'seismic', -10, 10, '../diagrams/materials/negative_q_tilde.svg')\n",
    "save_matrix_as_svg_with_edge_border(laplacian_positive, '$L_+$', 'seismic', -10, 10, '../diagrams/materials/laplacian_positive.svg')\n",
    "save_matrix_as_svg_with_edge_border(laplacian_negative, '$L_-$', 'seismic', -10, 10, '../diagrams/materials/laplacian_negative.svg')\n",
    "\n",
    "def save_matrix_as_svg_with_dashed_border(matrix, title, cmap, vmin, vmax, filename, border_color=None):\n",
    "    plt.figure(figsize=(5, 5))\n",
    "    plt.imshow(matrix, cmap=cmap, vmin=vmin, vmax=vmax)\n",
    "    \n",
    "    if border_color:\n",
    "        # Add a dashed border at the edge\n",
    "        ax = plt.gca()\n",
    "        rect = plt.Rectangle((-0.5, -0.5), matrix.shape[1], matrix.shape[0],\n",
    "                             linewidth=5, edgecolor=border_color, facecolor='none', linestyle='--')\n",
    "        ax.add_patch(rect)\n",
    "    \n",
    "    plt.axis('off')\n",
    "    plt.savefig(filename, bbox_inches='tight')\n",
    "\n",
    "# Save the feature matrices with dashed borders in contrasting colors\n",
    "save_matrix_as_svg_with_dashed_border(feature_matrix_positive, '$U_+$', 'seismic', -1, 1, \n",
    "                                      '../diagrams/materials/feature_matrix_positive.svg', \n",
    "                                      border_color='orange')\n",
    "save_matrix_as_svg_with_dashed_border(feature_matrix_negative, '$U_-$', 'seismic', -1, 1, \n",
    "                                      '../diagrams/materials/feature_matrix_negative.svg', \n",
    "                                      border_color='purple')\n",
    "\n",
    "def save_combined_matrix_with_pixel_adjusted_dashed_borders(matrix, title, cmap, vmin, vmax, filename, left_border_color, right_border_color, dpi=100):\n",
    "    plt.figure(figsize=(5, 5), dpi=dpi)\n",
    "    plt.imshow(matrix, cmap=cmap, vmin=vmin, vmax=vmax)\n",
    "    \n",
    "    ax = plt.gca()\n",
    "\n",
    "    # Get the transformation from data to display coordinates\n",
    "    trans = ax.transData\n",
    "\n",
    "    # Create a unit vector (1 data unit in x direction)\n",
    "    unit_vector = trans.transform([(0, 0), (1, 0)])\n",
    "    data_to_pixel_ratio = abs(unit_vector[1][0] - unit_vector[0][0])\n",
    "\n",
    "    # Convert 2.5 pixels to data units\n",
    "    pixel_adjustment = 2.5 / data_to_pixel_ratio\n",
    "\n",
    "    # Left rectangle: reduce width by the equivalent of 2.5 pixels\n",
    "    left_rect = plt.Rectangle((-0.5, -0.5), matrix.shape[1]//2 - pixel_adjustment, matrix.shape[0],\n",
    "                              linewidth=5, edgecolor=left_border_color, facecolor='none', linestyle='--')\n",
    "    ax.add_patch(left_rect)\n",
    "    \n",
    "    # Right rectangle: reduce width by 2.5 pixels and shift start by 2.5 pixels\n",
    "    right_rect = plt.Rectangle((matrix.shape[1]//2 + pixel_adjustment - 0.5, -0.5), \n",
    "                               matrix.shape[1]//2 - pixel_adjustment, matrix.shape[0],\n",
    "                               linewidth=5, edgecolor=right_border_color, facecolor='none', linestyle='--')\n",
    "    ax.add_patch(right_rect)\n",
    "    \n",
    "    plt.axis('off')\n",
    "    plt.savefig(filename, bbox_inches='tight')\n",
    "\n",
    "# Save the combined feature matrix with custom dashed borders in contrasting colors\n",
    "save_combined_matrix_with_pixel_adjusted_dashed_borders(combined_feature_matrix, 'U', 'seismic', -1, 1, \n",
    "                                                        '../diagrams/materials/combined_feature_matrix.svg', \n",
    "                                                        left_border_color='orange', right_border_color='purple', dpi=100)\n",
    "\n",
    "\n",
    "\n",
    "# Provide the file paths for download\n",
    "file_paths = {\n",
    "    \"Q_tilde\": \"../diagrams/materials/q_tilde.svg\",\n",
    "    \"Positive Q_tilde\": \"../diagrams/materials/positive_q_tilde.svg\",\n",
    "    \"Negative Q_tilde\": \"../diagrams/materials/negative_q_tilde.svg\",\n",
    "    \"Laplacian Positive\": \"../diagrams/materials/laplacian_positive.svg\",\n",
    "    \"Laplacian Negative\": \"../diagrams/materials/laplacian_negative.svg\",\n",
    "    \"Feature Matrix Positive\": \"../diagrams/materials/feature_matrix_positive.svg\",\n",
    "    \"Feature Matrix Negative\": \"../diagrams/materials/feature_matrix_negative.svg\",\n",
    "    \"Combined Feature Matrix\": \"../diagrams/materials/combined_feature_matrix.svg\"\n",
    "}\n",
    "\n",
    "file_paths\n",
    "\n"
   ]
  }
 ],
 "metadata": {
  "kernelspec": {
   "display_name": "base",
   "language": "python",
   "name": "python3"
  },
  "language_info": {
   "codemirror_mode": {
    "name": "ipython",
    "version": 3
   },
   "file_extension": ".py",
   "mimetype": "text/x-python",
   "name": "python",
   "nbconvert_exporter": "python",
   "pygments_lexer": "ipython3",
   "version": "3.12.4"
  }
 },
 "nbformat": 4,
 "nbformat_minor": 2
}
